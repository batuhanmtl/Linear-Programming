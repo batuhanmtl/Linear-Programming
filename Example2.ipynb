{
 "cells": [
  {
   "cell_type": "markdown",
   "source": [
    "Maximize\n",
    "- $Z = X_1+3X_2+5X_3+6X_4$\n",
    "\n",
    "\n",
    "Subject to\n",
    "- $X_1+X_2+X_3+X_4 \\leqslant 5$\n",
    "- $X_1+2X_2+3X_3+4X_4 \\leqslant 12$\n",
    "- $X_j \\geqslant 0$ $j = 1,2,3,4$\n"
   ],
   "metadata": {
    "collapsed": false,
    "pycharm": {
     "name": "#%% md\n"
    }
   }
  },
  {
   "cell_type": "code",
   "execution_count": 16,
   "outputs": [
    {
     "data": {
      "text/plain": "20.0"
     },
     "execution_count": 16,
     "metadata": {},
     "output_type": "execute_result"
    }
   ],
   "source": [
    "import matplotlib.pyplot as plt\n",
    "from scipy.optimize import linprog\n",
    "import numpy as np\n",
    "\n",
    "A = np.array([[1,1,1,1],[1,2,3,4]])\n",
    "b = np.array([5,12])\n",
    "c = np.array([-1,-3,-5,-6])\n",
    "\n",
    "result = linprog(c=c,A_ub=A,b_ub=b,method='simplex',bounds=(0,None))\n",
    "\n",
    "result.fun * (-1) # Since we multiply by -1 first, we need to multiply the resulting value by -1 again for the correct result. So the maximum value is 20.0"
   ],
   "metadata": {
    "collapsed": false,
    "pycharm": {
     "name": "#%%\n"
    }
   }
  },
  {
   "cell_type": "code",
   "execution_count": 17,
   "outputs": [
    {
     "data": {
      "text/plain": "array([0., 0., 4., 0.])"
     },
     "execution_count": 17,
     "metadata": {},
     "output_type": "execute_result"
    }
   ],
   "source": [
    "result.x"
   ],
   "metadata": {
    "collapsed": false,
    "pycharm": {
     "name": "#%%\n"
    }
   }
  },
  {
   "cell_type": "markdown",
   "source": [
    "$X_1 = 0 , X_2 = 0 , X_3 = 4 , X_4 = 0$"
   ],
   "metadata": {
    "collapsed": false,
    "pycharm": {
     "name": "#%% md\n"
    }
   }
  },
  {
   "cell_type": "markdown",
   "source": [
    "Let's solve the above problem with the 'interior point' method. The only change to be made is to change method='interior-point'."
   ],
   "metadata": {
    "collapsed": false,
    "pycharm": {
     "name": "#%% md\n"
    }
   }
  },
  {
   "cell_type": "code",
   "execution_count": 22,
   "outputs": [
    {
     "data": {
      "text/plain": "19.99999999631841"
     },
     "execution_count": 22,
     "metadata": {},
     "output_type": "execute_result"
    }
   ],
   "source": [
    "result = linprog(c=c,A_ub=A,b_ub=b,method='interior-point',bounds=(0,None))\n",
    "\n",
    "result.fun*(-1)"
   ],
   "metadata": {
    "collapsed": false,
    "pycharm": {
     "name": "#%%\n"
    }
   }
  },
  {
   "cell_type": "code",
   "execution_count": 23,
   "outputs": [
    {
     "data": {
      "text/plain": "array([1.79843552e-09, 4.67878448e-10, 4.00000000e+00, 3.21992904e-10])"
     },
     "execution_count": 23,
     "metadata": {},
     "output_type": "execute_result"
    }
   ],
   "source": [
    "result.x"
   ],
   "metadata": {
    "collapsed": false,
    "pycharm": {
     "name": "#%%\n"
    }
   }
  },
  {
   "cell_type": "markdown",
   "source": [
    "$X_1 = 1.798436e-09, X_2 = 4.678784e-10, X_3 = 4.000000e+00, X_4 = 3.219929e-10$"
   ],
   "metadata": {
    "collapsed": false,
    "pycharm": {
     "name": "#%% md\n"
    }
   }
  }
 ],
 "metadata": {
  "kernelspec": {
   "display_name": "Python 3",
   "language": "python",
   "name": "python3"
  },
  "language_info": {
   "codemirror_mode": {
    "name": "ipython",
    "version": 2
   },
   "file_extension": ".py",
   "mimetype": "text/x-python",
   "name": "python",
   "nbconvert_exporter": "python",
   "pygments_lexer": "ipython2",
   "version": "2.7.6"
  }
 },
 "nbformat": 4,
 "nbformat_minor": 0
}